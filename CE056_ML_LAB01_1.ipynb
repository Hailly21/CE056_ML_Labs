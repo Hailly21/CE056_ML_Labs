{
  "nbformat": 4,
  "nbformat_minor": 0,
  "metadata": {
    "colab": {
      "name": "CE154_ML_LAB01_1.ipynb",
      "provenance": [],
      "collapsed_sections": []
    },
    "kernelspec": {
      "name": "python3",
      "display_name": "Python 3"
    },
    "language_info": {
      "name": "python"
    }
  },
  "cells": [
    {
      "cell_type": "markdown",
      "source": [
        "**NumPy**"
      ],
      "metadata": {
        "id": "ERophLalc4YH"
      }
    },
    {
      "cell_type": "markdown",
      "source": [
        "[1] Create a Numpy array of size 4 x 5."
      ],
      "metadata": {
        "id": "tDt6vWyFcvJs"
      }
    },
    {
      "cell_type": "code",
      "source": [
        "import numpy as np\n",
        "import pandas as pd\n",
        "import matplotlib.pyplot as plt"
      ],
      "metadata": {
        "id": "rpYWsP6YlOGk"
      },
      "execution_count": 1,
      "outputs": []
    },
    {
      "cell_type": "code",
      "execution_count": 2,
      "metadata": {
        "colab": {
          "base_uri": "https://localhost:8080/"
        },
        "id": "IJPxtX1RYAeM",
        "outputId": "7b844f82-6e0f-4798-c8bd-4813db9b5743"
      },
      "outputs": [
        {
          "output_type": "stream",
          "name": "stdout",
          "text": [
            "[[ 1  2  3  4  5]\n",
            " [ 6  7  8  9 10]\n",
            " [11 12 13 14 15]\n",
            " [16 17 18 19 20]]\n"
          ]
        }
      ],
      "source": [
        "narry = np.array([[1, 2 , 3 , 4 , 5], [6 , 7, 8 , 9 , 10] , [11 , 12 , 13 , 14 , 15] ,  [16 , 17 , 18 , 19 , 20] ])\n",
        "print(narry)"
      ]
    },
    {
      "cell_type": "markdown",
      "source": [
        "[2] Randomly initialize the array."
      ],
      "metadata": {
        "id": "0z99fzQGb5jN"
      }
    },
    {
      "cell_type": "code",
      "source": [
        "narry = np.random.rand(4,5)\n",
        "print(narry)"
      ],
      "metadata": {
        "colab": {
          "base_uri": "https://localhost:8080/"
        },
        "id": "mJzVe971b_9O",
        "outputId": "cc2e3063-d82c-48b4-cea0-66eac034be3d"
      },
      "execution_count": 3,
      "outputs": [
        {
          "output_type": "stream",
          "name": "stdout",
          "text": [
            "[[0.92761764 0.27930475 0.110081   0.10884299 0.86440059]\n",
            " [0.48762844 0.64884137 0.62791906 0.22510074 0.54968151]\n",
            " [0.60755608 0.87744677 0.94680897 0.79941423 0.95206338]\n",
            " [0.69493883 0.78954355 0.47783845 0.22287828 0.63202132]]\n"
          ]
        }
      ]
    },
    {
      "cell_type": "markdown",
      "source": [
        "[3] Get the Transpose of the Matrix that you created. Create a square matrix and find its determinant."
      ],
      "metadata": {
        "id": "6EWmrhvHc4_1"
      }
    },
    {
      "cell_type": "code",
      "source": [
        "narry = np.array([[1, 2 , 3 , 4 , 5], [6 , 7, 8 , 9 , 10] , [11 , 12 , 13 , 14 , 15] ,  [16 , 17 , 18 , 19 , 20] ])\n",
        "print('Find Transpose of The Matrix')\n",
        "print('Original matrix 4 x 5')\n",
        "print(narry)\n",
        "\n",
        "print('Transposed matrix 5 x 4')\n",
        "print(narry.T)\n",
        "\n",
        "array2X2 =  np.array([[50, 29], [30, 44]])\n",
        "print('Determinant of the Square Matrix is')\n",
        "det = np.linalg.det(array2X2)\n",
        "print(det)\n"
      ],
      "metadata": {
        "colab": {
          "base_uri": "https://localhost:8080/"
        },
        "id": "90tMBSFuc-_O",
        "outputId": "fa029f76-edc4-4ad4-a1a2-49071b835061"
      },
      "execution_count": 4,
      "outputs": [
        {
          "output_type": "stream",
          "name": "stdout",
          "text": [
            "Find Transpose of The Matrix\n",
            "Original matrix 4 x 5\n",
            "[[ 1  2  3  4  5]\n",
            " [ 6  7  8  9 10]\n",
            " [11 12 13 14 15]\n",
            " [16 17 18 19 20]]\n",
            "Transposed matrix 5 x 4\n",
            "[[ 1  6 11 16]\n",
            " [ 2  7 12 17]\n",
            " [ 3  8 13 18]\n",
            " [ 4  9 14 19]\n",
            " [ 5 10 15 20]]\n",
            "Determinant of the Square Matrix is\n",
            "1330.0000000000002\n"
          ]
        }
      ]
    },
    {
      "cell_type": "markdown",
      "source": [
        "[4] Create another matrix of size 5 x 4 and randomly initialize it."
      ],
      "metadata": {
        "id": "4KRs_qKKdbC8"
      }
    },
    {
      "cell_type": "code",
      "source": [
        "narry = np.random.rand(5,4)\n",
        "print(narry)"
      ],
      "metadata": {
        "colab": {
          "base_uri": "https://localhost:8080/"
        },
        "id": "Mdbi5hkuesWs",
        "outputId": "219dae26-b495-46d8-bb13-0a687cdf481e"
      },
      "execution_count": 5,
      "outputs": [
        {
          "output_type": "stream",
          "name": "stdout",
          "text": [
            "[[0.39913969 0.90734201 0.93710168 0.0717294 ]\n",
            " [0.30921681 0.73807239 0.47009172 0.64789277]\n",
            " [0.16401585 0.52518941 0.58405789 0.3988341 ]\n",
            " [0.55288051 0.59232521 0.29077233 0.15978789]\n",
            " [0.32054382 0.51370245 0.54822179 0.9619528 ]]\n"
          ]
        }
      ]
    },
    {
      "cell_type": "markdown",
      "source": [
        "[5] Perform Matrix multiplication."
      ],
      "metadata": {
        "id": "dVCR2c8ee1is"
      }
    },
    {
      "cell_type": "code",
      "source": [
        "arr1 = np.array([[2, 7, 5], [-6, 2, 0]])\n",
        "arr2 = np.array([[0, 7, 8], [5, -2, 9]])\n",
        "matmul = arr1 * arr2\n",
        "print(matmul)"
      ],
      "metadata": {
        "colab": {
          "base_uri": "https://localhost:8080/"
        },
        "id": "ETeqHOHbe8aU",
        "outputId": "9f91dab4-9246-48e5-aa24-be04c946d698"
      },
      "execution_count": 6,
      "outputs": [
        {
          "output_type": "stream",
          "name": "stdout",
          "text": [
            "[[  0  49  40]\n",
            " [-30  -4   0]]\n"
          ]
        }
      ]
    },
    {
      "cell_type": "markdown",
      "source": [
        "[6] Perform element wise matrix multiplication."
      ],
      "metadata": {
        "id": "mVxgUICmfqyd"
      }
    },
    {
      "cell_type": "code",
      "source": [
        "arr1 = np.array([[2, 7, 5], [-6, 2, 0]])\n",
        "arr2 = np.array([[0, 7, 8], [5, -2, 9]])\n",
        "\n",
        "out_arr = np.multiply(arr1, arr2)\n",
        "print (out_arr)\n"
      ],
      "metadata": {
        "colab": {
          "base_uri": "https://localhost:8080/"
        },
        "id": "h1t0XHo7fE-M",
        "outputId": "13788135-ce24-4711-da3a-44317deccbcf"
      },
      "execution_count": 7,
      "outputs": [
        {
          "output_type": "stream",
          "name": "stdout",
          "text": [
            "[[  0  49  40]\n",
            " [-30  -4   0]]\n"
          ]
        }
      ]
    },
    {
      "cell_type": "markdown",
      "source": [
        "[7] Find mean, median of the numpy array created."
      ],
      "metadata": {
        "id": "3tRjurHmhcZk"
      }
    },
    {
      "cell_type": "code",
      "source": [
        "arr1 = np.array([[0, 7, 8], [5, 2, 9]])\n",
        "print('Mean of an array is:',np.mean(arr1))\n",
        "print('Meaian of an array is:',np.median(arr1))\n"
      ],
      "metadata": {
        "colab": {
          "base_uri": "https://localhost:8080/"
        },
        "id": "B4A_cY6Ah6ck",
        "outputId": "34029433-2a61-49f3-9da5-32816f26645c"
      },
      "execution_count": 8,
      "outputs": [
        {
          "output_type": "stream",
          "name": "stdout",
          "text": [
            "Mean of an array is: 5.166666666666667\n",
            "Meaian of an array is: 6.0\n"
          ]
        }
      ]
    },
    {
      "cell_type": "markdown",
      "source": [
        "[8] Obtain each row in the second column of the first array. "
      ],
      "metadata": {
        "id": "ECufp1zzim5D"
      }
    },
    {
      "cell_type": "code",
      "source": [
        "arr1 = np.array([[2, 7, 5], [-6, 2, 0]])\n",
        "print(arr1)\n",
        "arr1[:,2]"
      ],
      "metadata": {
        "colab": {
          "base_uri": "https://localhost:8080/"
        },
        "id": "ZgwxSJuGit4b",
        "outputId": "cc43618f-e458-4a18-96e9-e13a1bb2720b"
      },
      "execution_count": 9,
      "outputs": [
        {
          "output_type": "stream",
          "name": "stdout",
          "text": [
            "[[ 2  7  5]\n",
            " [-6  2  0]]\n"
          ]
        },
        {
          "output_type": "execute_result",
          "data": {
            "text/plain": [
              "array([5, 0])"
            ]
          },
          "metadata": {},
          "execution_count": 9
        }
      ]
    },
    {
      "cell_type": "markdown",
      "source": [
        "[9] Convert Numeric entries(columns) of Iris.csv to Mean Centered Version"
      ],
      "metadata": {
        "id": "7iYD_cU5jqjV"
      }
    },
    {
      "cell_type": "code",
      "source": [
        "data=pd.read_csv('https://raw.githubusercontent.com/Mrkk108/ML/main/Iris.csv')\n",
        "arr= np.array(data)\n",
        "iris_array=np.array([arr[:,0],arr[:,1],arr[:,2]])\n",
        "iris_centered=iris_array - np.mean(iris_array,axis=0)\n",
        "print(iris_centered)"
      ],
      "metadata": {
        "colab": {
          "base_uri": "https://localhost:8080/"
        },
        "id": "zFmhElagjwyD",
        "outputId": "775120a5-00b2-4084-c13f-d4d9a677a9a7"
      },
      "execution_count": 10,
      "outputs": [
        {
          "output_type": "stream",
          "name": "stdout",
          "text": [
            "[[-2.1999999999999997 -1.3000000000000003 -0.6333333333333333\n",
            "  0.10000000000000009 0.4666666666666668 0.8999999999999995 2.0\n",
            "  2.533333333333334 3.5666666666666664 4.0 4.300000000000001\n",
            "  5.266666666666667 6.066666666666666 6.8999999999999995\n",
            "  6.7333333333333325 7.299999999999999 8.233333333333334\n",
            "  9.133333333333333 9.5 10.366666666666665 11.066666666666668\n",
            "  11.733333333333333 12.6 13.200000000000001 13.933333333333332\n",
            "  14.666666666666666 15.200000000000001 15.766666666666666\n",
            "  16.46666666666667 17.366666666666667 18.03333333333333 18.4 18.9\n",
            "  19.43333333333333 20.666666666666664 21.266666666666666\n",
            "  21.666666666666664 22.666666666666664 23.53333333333333\n",
            "  23.833333333333332 24.5 25.733333333333334 26.133333333333333 26.5\n",
            "  27.033333333333335 28.066666666666666 28.366666666666667 29.4\n",
            "  29.666666666666668 30.566666666666666 30.599999999999998\n",
            "  31.466666666666665 32.0 33.400000000000006 33.56666666666666 34.5 34.8\n",
            "  36.233333333333334 36.16666666666667 37.36666666666666\n",
            "  38.33333333333333 38.36666666666666 39.266666666666666\n",
            "  39.66666666666667 40.5 40.733333333333334 41.8 42.5 43.2\n",
            "  43.96666666666667 44.3 45.03333333333333 45.733333333333334\n",
            "  46.366666666666674 46.89999999999999 47.46666666666667\n",
            "  48.13333333333334 48.766666666666666 49.7 50.56666666666666\n",
            "  51.36666666666666 52.03333333333333 52.5 53.099999999999994\n",
            "  53.86666666666666 54.2 54.733333333333334 55.800000000000004\n",
            "  56.46666666666667 57.333333333333336 57.96666666666667\n",
            "  58.300000000000004 59.2 60.233333333333334 60.56666666666667 61.1 61.8\n",
            "  62.3 63.46666666666667 63.833333333333336 64.13333333333333\n",
            "  65.16666666666666 65.30000000000001 66.26666666666667 66.83333333333334\n",
            "  67.13333333333333 68.86666666666667 68.6 69.6 69.73333333333333\n",
            "  70.76666666666667 71.63333333333333 72.06666666666666 73.26666666666667\n",
            "  73.80000000000001 74.13333333333333 74.83333333333334 74.83333333333334\n",
            "  75.9 77.26666666666668 77.30000000000001 78.53333333333333 78.5\n",
            "  79.66666666666666 80.0 80.53333333333333 81.66666666666666\n",
            "  82.30000000000001 82.93333333333334 83.26666666666668 83.93333333333334\n",
            "  84.1 85.6 86.29999999999998 87.1 87.1 88.1 88.83333333333334\n",
            "  89.66666666666666 90.0 90.73333333333335 91.33333333333334 92.5\n",
            "  92.66666666666666 93.33333333333334 94.1 95.06666666666666 95.5\n",
            "  96.13333333333333 97.03333333333333]\n",
            " [1.9 1.6 1.0666666666666669 0.6999999999999997 0.4666666666666668\n",
            "  0.2999999999999998 -0.40000000000000036 -0.4666666666666659\n",
            "  -1.0333333333333332 -1.0999999999999996 -1.299999999999999\n",
            "  -1.9333333333333336 -2.1333333333333337 -2.8000000000000007\n",
            "  -2.4666666666666677 -3.000000000000001 -3.3666666666666654\n",
            "  -3.7666666666666675 -3.8 -4.533333333333335 -4.533333333333331\n",
            "  -5.166666666666668 -5.800000000000001 -5.699999999999999\n",
            "  -6.266666666666668 -6.333333333333334 -6.799999999999999\n",
            "  -7.033333333333334 -7.333333333333333 -7.9333333333333345\n",
            "  -8.166666666666668 -8.2 -8.900000000000002 -9.066666666666668\n",
            "  -9.433333333333334 -9.733333333333334 -9.833333333333334\n",
            "  -10.433333333333334 -11.066666666666666 -11.066666666666668 -11.5\n",
            "  -11.766666666666666 -12.466666666666667 -12.5 -12.866666666666665\n",
            "  -13.133333333333333 -13.533333333333333 -14.000000000000002\n",
            "  -14.033333333333331 -14.433333333333334 -13.400000000000002\n",
            "  -14.133333333333335 -14.1 -15.099999999999998 -14.933333333333334 -15.8\n",
            "  -15.899999999999999 -16.866666666666667 -16.233333333333334\n",
            "  -17.433333333333337 -17.666666666666668 -17.733333333333334\n",
            "  -17.733333333333334 -18.233333333333334 -18.9 -18.566666666666666 -19.6\n",
            "  -19.7 -19.6 -20.43333333333333 -20.800000000000004 -20.866666666666667\n",
            "  -20.966666666666665 -21.53333333333333 -21.700000000000003\n",
            "  -21.93333333333333 -22.066666666666663 -22.533333333333335 -23.3\n",
            "  -23.733333333333334 -24.133333333333336 -24.46666666666667 -24.7\n",
            "  -24.900000000000002 -25.733333333333334 -25.8 -25.566666666666666\n",
            "  -25.899999999999995 -26.93333333333333 -27.166666666666664\n",
            "  -27.53333333333333 -27.599999999999994 -27.999999999999996\n",
            "  -28.766666666666666 -28.83333333333333 -29.2 -29.500000000000004\n",
            "  -29.500000000000004 -30.43333333333333 -30.466666666666665\n",
            "  -30.566666666666666 -31.033333333333335 -30.599999999999994\n",
            "  -31.433333333333334 -31.666666666666664 -31.266666666666666\n",
            "  -33.233333333333334 -32.1 -32.699999999999996 -33.06666666666666\n",
            "  -33.733333333333334 -33.96666666666667 -34.13333333333333\n",
            "  -35.03333333333333 -35.4 -35.46666666666667 -35.666666666666664\n",
            "  -35.46666666666666 -35.4 -36.73333333333333 -36.8 -37.86666666666667\n",
            "  -36.8 -38.03333333333334 -38.3 -38.26666666666666 -39.13333333333333\n",
            "  -39.599999999999994 -39.66666666666667 -39.533333333333324\n",
            "  -39.66666666666667 -40.00000000000001 -41.00000000000001\n",
            "  -41.40000000000001 -41.8 -41.199999999999996 -42.60000000000001\n",
            "  -42.766666666666666 -43.333333333333336 -43.1 -43.566666666666656\n",
            "  -43.766666666666666 -44.7 -44.53333333333334 -44.96666666666666\n",
            "  -45.199999999999996 -45.63333333333334 -46.0 -46.666666666666664\n",
            "  -47.06666666666667]\n",
            " [0.30000000000000027 -0.30000000000000027 -0.4333333333333331\n",
            "  -0.7999999999999998 -0.9333333333333331 -1.2000000000000006 -1.6\n",
            "  -2.066666666666666 -2.5333333333333337 -2.9 -2.999999999999999\n",
            "  -3.3333333333333335 -3.9333333333333336 -4.1000000000000005\n",
            "  -4.2666666666666675 -4.300000000000001 -4.866666666666665\n",
            "  -5.366666666666667 -5.7 -5.833333333333335 -6.533333333333331\n",
            "  -6.566666666666667 -6.800000000000001 -7.499999999999999\n",
            "  -7.666666666666668 -8.333333333333334 -8.399999999999999\n",
            "  -8.733333333333334 -9.133333333333333 -9.433333333333334\n",
            "  -9.866666666666667 -10.2 -10.000000000000002 -10.366666666666667\n",
            "  -11.233333333333334 -11.533333333333335 -11.833333333333334\n",
            "  -12.233333333333334 -12.466666666666667 -12.766666666666667 -13.0\n",
            "  -13.966666666666665 -13.666666666666668 -14.0 -14.166666666666664\n",
            "  -14.933333333333334 -14.833333333333332 -15.400000000000002\n",
            "  -15.633333333333333 -16.133333333333333 -17.200000000000003\n",
            "  -17.333333333333336 -17.9 -18.299999999999997 -18.633333333333333 -18.7\n",
            "  -18.9 -19.366666666666667 -19.933333333333334 -19.933333333333337\n",
            "  -20.666666666666668 -20.633333333333336 -21.533333333333335\n",
            "  -21.433333333333334 -21.6 -22.166666666666664 -22.2 -22.8 -23.6\n",
            "  -23.53333333333333 -23.500000000000004 -24.166666666666664\n",
            "  -24.766666666666666 -24.83333333333333 -25.200000000000006\n",
            "  -25.53333333333333 -26.066666666666663 -26.233333333333334\n",
            "  -26.400000000000002 -26.833333333333332 -27.233333333333338\n",
            "  -27.56666666666667 -27.8 -28.200000000000003 -28.133333333333336\n",
            "  -28.400000000000002 -29.166666666666664 -29.899999999999995\n",
            "  -29.53333333333333 -30.166666666666664 -30.43333333333333\n",
            "  -30.699999999999996 -31.199999999999996 -31.466666666666665\n",
            "  -31.73333333333333 -31.9 -32.300000000000004 -32.800000000000004\n",
            "  -33.03333333333333 -33.36666666666667 -33.56666666666667\n",
            "  -34.13333333333333 -34.699999999999996 -34.833333333333336\n",
            "  -35.166666666666664 -35.86666666666667 -35.63333333333333 -36.5 -36.9\n",
            "  -36.666666666666664 -37.03333333333333 -37.666666666666664\n",
            "  -37.93333333333333 -38.233333333333334 -38.4 -38.666666666666664\n",
            "  -39.166666666666664 -39.36666666666667 -40.5 -40.533333333333324\n",
            "  -40.49999999999999 -40.66666666666667 -41.7 -41.63333333333333 -41.7\n",
            "  -42.26666666666666 -42.53333333333334 -42.699999999999996\n",
            "  -43.26666666666667 -43.73333333333333 -44.26666666666667\n",
            "  -44.10000000000001 -44.60000000000001 -44.90000000000001 -45.3 -45.9\n",
            "  -45.50000000000001 -46.06666666666666 -46.333333333333336 -46.9\n",
            "  -47.16666666666666 -47.56666666666666 -47.8 -48.13333333333333\n",
            "  -48.36666666666667 -48.9 -49.43333333333334 -49.5 -49.46666666666667\n",
            "  -49.96666666666667]]\n"
          ]
        }
      ]
    },
    {
      "cell_type": "markdown",
      "source": [
        "[10] Study about numpy array attributes and implement it on the first matrix."
      ],
      "metadata": {
        "id": "MRLYNa07za-u"
      }
    },
    {
      "cell_type": "code",
      "source": [
        "mat5=np.array([[4,7,3],[8,10,6]])\n",
        "print(mat5.shape)"
      ],
      "metadata": {
        "colab": {
          "base_uri": "https://localhost:8080/"
        },
        "id": "6Jr2D5x3XMuj",
        "outputId": "b507c2ac-a3b6-4601-b4a7-82c2a9b8e5e8"
      },
      "execution_count": 11,
      "outputs": [
        {
          "output_type": "stream",
          "name": "stdout",
          "text": [
            "(2, 3)\n"
          ]
        }
      ]
    },
    {
      "cell_type": "markdown",
      "source": [
        "**LAB_1_04**"
      ],
      "metadata": {
        "id": "qEvs-r77ZuRe"
      }
    },
    {
      "cell_type": "markdown",
      "source": [
        ""
      ],
      "metadata": {
        "id": "LYgzY_oAZxPc"
      }
    },
    {
      "cell_type": "code",
      "source": [
        "#1 \n",
        "iris_url='https://raw.githubusercontent.com/Mrkk108/ML/main/Iris.csv';\n",
        "mtcars_url='https://raw.githubusercontent.com/Mrkk108/ML/main/mtcars.csv'\n",
        "data=pd.read_csv(iris_url)\n",
        "plt.scatter(data['SepalLengthCm'],data['PetalWidthCm'])"
      ],
      "metadata": {
        "colab": {
          "base_uri": "https://localhost:8080/",
          "height": 282
        },
        "id": "6f64sOLvZ6JG",
        "outputId": "88e228ff-9256-4a2d-bf8c-e179d8660c90"
      },
      "execution_count": 12,
      "outputs": [
        {
          "output_type": "execute_result",
          "data": {
            "text/plain": [
              "<matplotlib.collections.PathCollection at 0x7f7cb87a8490>"
            ]
          },
          "metadata": {},
          "execution_count": 12
        },
        {
          "output_type": "display_data",
          "data": {
            "image/png": "[encoded data removed]",
            "text/plain": [
              "<Figure size 432x288 with 1 Axes>"
            ]
          },
          "metadata": {
            "needs_background": "light"
          }
        }
      ]
    },
    {
      "cell_type": "code",
      "source": [
        "#2 Draw Histogram of SepalLengthCm with proper labelling.\n",
        "plt.hist(data['SepalLengthCm'],bins=5,label=str)\n"
      ],
      "metadata": {
        "colab": {
          "base_uri": "https://localhost:8080/",
          "height": 317
        },
        "id": "snqSEfOGbBD5",
        "outputId": "00b2903e-1b97-4385-dbc1-39fe93522356"
      },
      "execution_count": 13,
      "outputs": [
        {
          "output_type": "execute_result",
          "data": {
            "text/plain": [
              "(array([32., 41., 42., 24., 11.]),\n",
              " array([4.3 , 5.02, 5.74, 6.46, 7.18, 7.9 ]),\n",
              " <a list of 5 Patch objects>)"
            ]
          },
          "metadata": {},
          "execution_count": 13
        },
        {
          "output_type": "display_data",
          "data": {
            "image/png": "[encoded data removed]",
            "text/plain": [
              "<Figure size 432x288 with 1 Axes>"
            ]
          },
          "metadata": {
            "needs_background": "light"
          }
        }
      ]
    },
    {
      "cell_type": "code",
      "source": [
        "# 3) Plot bar chart of Species.\n",
        "plt.bar(data['PetalLengthCm'],height=1)"
      ],
      "metadata": {
        "colab": {
          "base_uri": "https://localhost:8080/",
          "height": 282
        },
        "id": "LTZet1aQbycU",
        "outputId": "52cdbc7e-f6f7-42c6-85c5-9fad568a0770"
      },
      "execution_count": 14,
      "outputs": [
        {
          "output_type": "execute_result",
          "data": {
            "text/plain": [
              "<BarContainer object of 150 artists>"
            ]
          },
          "metadata": {},
          "execution_count": 14
        },
        {
          "output_type": "display_data",
          "data": {
            "image/png": "[encoded data removed]",
            "text/plain": [
              "<Figure size 432x288 with 1 Axes>"
            ]
          },
          "metadata": {
            "needs_background": "light"
          }
        }
      ]
    },
    {
      "cell_type": "code",
      "source": [
        "# 4) Count total null values for each column in this dataset\n",
        "iris_col_arr = ['SepalLengthCm','SepalWidthCm','PetalWidthCm','Species']\n",
        "for i in range(4):\n",
        "  print(\"The null value for column \",iris_col_arr[i],\" is \",data[iris_col_arr[i]].isnull().sum())\n",
        "print('\\n')"
      ],
      "metadata": {
        "colab": {
          "base_uri": "https://localhost:8080/"
        },
        "id": "P4A61ECjb0r9",
        "outputId": "f3109f66-0c6d-45cc-e0df-4757cf8260f5"
      },
      "execution_count": 15,
      "outputs": [
        {
          "output_type": "stream",
          "name": "stdout",
          "text": [
            "The null value for column  SepalLengthCm  is  0\n",
            "The null value for column  SepalWidthCm  is  0\n",
            "The null value for column  PetalWidthCm  is  0\n",
            "The null value for column  Species  is  0\n",
            "\n",
            "\n"
          ]
        }
      ]
    },
    {
      "cell_type": "code",
      "source": [
        "#  5) \n",
        "# 1) Print first 5 rows of SepalLengthCm. \n",
        "display(data.iloc[0:5,1:2])\n",
        "# 2) Print from 5th row and onwards and entire column of Iris.csv dataset.\n",
        "display(data.iloc[5:,1:5])"
      ],
      "metadata": {
        "colab": {
          "base_uri": "https://localhost:8080/",
          "height": 613
        },
        "id": "4cQoGnfTb7kh",
        "outputId": "eec97df6-56b9-4d0c-b599-a9801a49bbf4"
      },
      "execution_count": 16,
      "outputs": [
        {
          "output_type": "display_data",
          "data": {
            "text/html": [
              "<div>\n",
              "<style scoped>\n",
              "    .dataframe tbody tr th:only-of-type {\n",
              "        vertical-align: middle;\n",
              "    }\n",
              "\n",
              "    .dataframe tbody tr th {\n",
              "        vertical-align: top;\n",
              "    }\n",
              "\n",
              "    .dataframe thead th {\n",
              "        text-align: right;\n",
              "    }\n",
              "</style>\n",
              "<table border=\"1\" class=\"dataframe\">\n",
              "  <thead>\n",
              "    <tr style=\"text-align: right;\">\n",
              "      <th></th>\n",
              "      <th>SepalLengthCm</th>\n",
              "    </tr>\n",
              "  </thead>\n",
              "  <tbody>\n",
              "    <tr>\n",
              "      <th>0</th>\n",
              "      <td>5.1</td>\n",
              "    </tr>\n",
              "    <tr>\n",
              "      <th>1</th>\n",
              "      <td>4.9</td>\n",
              "    </tr>\n",
              "    <tr>\n",
              "      <th>2</th>\n",
              "      <td>4.7</td>\n",
              "    </tr>\n",
              "    <tr>\n",
              "      <th>3</th>\n",
              "      <td>4.6</td>\n",
              "    </tr>\n",
              "    <tr>\n",
              "      <th>4</th>\n",
              "      <td>5.0</td>\n",
              "    </tr>\n",
              "  </tbody>\n",
              "</table>\n",
              "</div>"
            ],
            "text/plain": [
              "   SepalLengthCm\n",
              "0            5.1\n",
              "1            4.9\n",
              "2            4.7\n",
              "3            4.6\n",
              "4            5.0"
            ]
          },
          "metadata": {}
        },
        {
          "output_type": "display_data",
          "data": {
            "text/html": [
              "<div>\n",
              "<style scoped>\n",
              "    .dataframe tbody tr th:only-of-type {\n",
              "        vertical-align: middle;\n",
              "    }\n",
              "\n",
              "    .dataframe tbody tr th {\n",
              "        vertical-align: top;\n",
              "    }\n",
              "\n",
              "    .dataframe thead th {\n",
              "        text-align: right;\n",
              "    }\n",
              "</style>\n",
              "<table border=\"1\" class=\"dataframe\">\n",
              "  <thead>\n",
              "    <tr style=\"text-align: right;\">\n",
              "      <th></th>\n",
              "      <th>SepalLengthCm</th>\n",
              "      <th>SepalWidthCm</th>\n",
              "      <th>PetalLengthCm</th>\n",
              "      <th>PetalWidthCm</th>\n",
              "    </tr>\n",
              "  </thead>\n",
              "  <tbody>\n",
              "    <tr>\n",
              "      <th>5</th>\n",
              "      <td>5.4</td>\n",
              "      <td>3.9</td>\n",
              "      <td>1.7</td>\n",
              "      <td>0.4</td>\n",
              "    </tr>\n",
              "    <tr>\n",
              "      <th>6</th>\n",
              "      <td>4.6</td>\n",
              "      <td>3.4</td>\n",
              "      <td>1.4</td>\n",
              "      <td>0.3</td>\n",
              "    </tr>\n",
              "    <tr>\n",
              "      <th>7</th>\n",
              "      <td>5.0</td>\n",
              "      <td>3.4</td>\n",
              "      <td>1.5</td>\n",
              "      <td>0.2</td>\n",
              "    </tr>\n",
              "    <tr>\n",
              "      <th>8</th>\n",
              "      <td>4.4</td>\n",
              "      <td>2.9</td>\n",
              "      <td>1.4</td>\n",
              "      <td>0.2</td>\n",
              "    </tr>\n",
              "    <tr>\n",
              "      <th>9</th>\n",
              "      <td>4.9</td>\n",
              "      <td>3.1</td>\n",
              "      <td>1.5</td>\n",
              "      <td>0.1</td>\n",
              "    </tr>\n",
              "    <tr>\n",
              "      <th>...</th>\n",
              "      <td>...</td>\n",
              "      <td>...</td>\n",
              "      <td>...</td>\n",
              "      <td>...</td>\n",
              "    </tr>\n",
              "    <tr>\n",
              "      <th>145</th>\n",
              "      <td>6.7</td>\n",
              "      <td>3.0</td>\n",
              "      <td>5.2</td>\n",
              "      <td>2.3</td>\n",
              "    </tr>\n",
              "    <tr>\n",
              "      <th>146</th>\n",
              "      <td>6.3</td>\n",
              "      <td>2.5</td>\n",
              "      <td>5.0</td>\n",
              "      <td>1.9</td>\n",
              "    </tr>\n",
              "    <tr>\n",
              "      <th>147</th>\n",
              "      <td>6.5</td>\n",
              "      <td>3.0</td>\n",
              "      <td>5.2</td>\n",
              "      <td>2.0</td>\n",
              "    </tr>\n",
              "    <tr>\n",
              "      <th>148</th>\n",
              "      <td>6.2</td>\n",
              "      <td>3.4</td>\n",
              "      <td>5.4</td>\n",
              "      <td>2.3</td>\n",
              "    </tr>\n",
              "    <tr>\n",
              "      <th>149</th>\n",
              "      <td>5.9</td>\n",
              "      <td>3.0</td>\n",
              "      <td>5.1</td>\n",
              "      <td>1.8</td>\n",
              "    </tr>\n",
              "  </tbody>\n",
              "</table>\n",
              "<p>145 rows × 4 columns</p>\n",
              "</div>"
            ],
            "text/plain": [
              "     SepalLengthCm  SepalWidthCm  PetalLengthCm  PetalWidthCm\n",
              "5              5.4           3.9            1.7           0.4\n",
              "6              4.6           3.4            1.4           0.3\n",
              "7              5.0           3.4            1.5           0.2\n",
              "8              4.4           2.9            1.4           0.2\n",
              "9              4.9           3.1            1.5           0.1\n",
              "..             ...           ...            ...           ...\n",
              "145            6.7           3.0            5.2           2.3\n",
              "146            6.3           2.5            5.0           1.9\n",
              "147            6.5           3.0            5.2           2.0\n",
              "148            6.2           3.4            5.4           2.3\n",
              "149            5.9           3.0            5.1           1.8\n",
              "\n",
              "[145 rows x 4 columns]"
            ]
          },
          "metadata": {}
        }
      ]
    },
    {
      "cell_type": "markdown",
      "source": [
        "**NLTK**"
      ],
      "metadata": {
        "id": "hzeKQUv4cJAq"
      }
    },
    {
      "cell_type": "code",
      "source": [
        "import nltk\n",
        "from nltk.corpus import twitter_samples\n",
        "import matplotlib.pyplot as plt\n",
        "import random\n",
        "import re  # library for regular expression operations\n",
        "import string  # for string operations\n",
        "from nltk.corpus import stopwords  # module for stop words that come with NLTK\n",
        "from nltk.stem import PorterStemmer  # module for stemming\n",
        "from nltk.tokenize import TweetTokenizer  # module for tokenizing strings\n",
        "\n",
        "nltk.download(\"twitter_samples\")\n",
        "\n",
        "allPositiveTweets = twitter_samples.strings(\"positive_tweets.json\")\n",
        "allNegativeTweets = twitter_samples.strings(\"negative_tweets.json\")\n",
        "\n",
        "print(\"Number of Positive Tweets\", len(allPositiveTweets))\n",
        "print(\"Number of Negative Tweets\", len(allNegativeTweets))\n",
        "\n",
        "print('\\nThe type of all_positive_tweets is: ', type(allPositiveTweets))\n",
        "print('The type of a tweet entry is: ', type(allNegativeTweets[0]))\n",
        "\n",
        "\n",
        "# print positive in green\n",
        "print('\\033[92m' + allPositiveTweets[random.randint(0, 5000)])\n",
        "# print negative in red\n",
        "print('\\033[91m' + allNegativeTweets[random.randint(0, 5000)])\n",
        "tweet = allPositiveTweets[2277]\n",
        "print(tweet)\n",
        "\n",
        "# download the stopwords from NLTK\n",
        "nltk.download('stopwords')\n",
        "print('\\033[92m' + tweet)\n",
        "print('\\033[94m')\n",
        "# remove hyperlinks\n",
        "tweet2 = re.sub(r'https?:\\/\\/.*[\\r\\n]*', '', tweet)\n",
        "# remove hashtags\n",
        "# only removing the hash # sign from the word\n",
        "tweet2 = re.sub(r'#', '', tweet2)\n",
        "print(tweet2)\n",
        "\n",
        "print()\n",
        "print('\\033[92m' + tweet2)\n",
        "print('\\033[94m')\n",
        "# instantiate tokenizer class\n",
        "tokenizer = TweetTokenizer(preserve_case=False)\n",
        "# tokenize tweets\n",
        "tweet_tokens = tokenizer.tokenize(tweet2)\n",
        "print()\n",
        "print('Tokenized string:')\n",
        "print(tweet_tokens)\n",
        "\n",
        "# Import the english stop words list from NLTK\n",
        "stopwords_english = stopwords.words('english')\n",
        "print('Stop words\\n')\n",
        "print(stopwords_english)\n",
        "print('\\nPunctuation\\n')\n",
        "print(string.punctuation)\n",
        "\n",
        "print()\n",
        "print('\\033[92m')\n",
        "print(tweet_tokens)\n",
        "print('\\033[94m')\n",
        "tweets_clean = []\n",
        "for word in tweet_tokens:  # Go through every word in your tokens list\n",
        "    if (word not in stopwords_english and  # remove stopwords\n",
        "            word not in string.punctuation):  # remove punctuation\n",
        "        tweets_clean.append(word)\n",
        "print('removed stop words and punctuation:')\n",
        "print(tweets_clean)\n",
        "\n",
        "print()\n",
        "print('\\033[92m')\n",
        "print(tweets_clean)\n",
        "print('\\033[94m')\n",
        "# Instantiate stemming class\n",
        "stemmer = PorterStemmer()\n",
        "# Create an empty list to store the stems\n",
        "tweets_stem = []\n",
        "for word in tweets_clean:\n",
        "    stem_word = stemmer.stem(word)  # stemming word\n",
        "    tweets_stem.append(stem_word)  # append to the list\n",
        "print('stemmed words:')\n",
        "print(tweets_stem)"
      ],
      "metadata": {
        "colab": {
          "base_uri": "https://localhost:8080/"
        },
        "id": "9w-txGE3cLAt",
        "outputId": "a23c91c5-56e3-49d8-fa00-3710eca1168f"
      },
      "execution_count": 17,
      "outputs": [
        {
          "output_type": "stream",
          "name": "stdout",
          "text": [
            "[nltk_data] Downloading package twitter_samples to /root/nltk_data...\n",
            "[nltk_data]   Unzipping corpora/twitter_samples.zip.\n",
            "Number of Positive Tweets 5000\n",
            "Number of Negative Tweets 5000\n",
            "\n",
            "The type of all_positive_tweets is:  <class 'list'>\n",
            "The type of a tweet entry is:  <class 'str'>\n",
            "\u001b[92m@montague_web  thanks for following @evolvetelecom #telecoms Happy Friday :)\n",
            "\u001b[91mI care :( http://t.co/Oe5ID3cJIR\n",
            "My beautiful sunflowers on a sunny Friday morning off :) #sunflowers #favourites #happy #Friday off… https://t.co/3tfYom0N1i\n",
            "[nltk_data] Downloading package stopwords to /root/nltk_data...\n",
            "[nltk_data]   Unzipping corpora/stopwords.zip.\n",
            "\u001b[92mMy beautiful sunflowers on a sunny Friday morning off :) #sunflowers #favourites #happy #Friday off… https://t.co/3tfYom0N1i\n",
            "\u001b[94m\n",
            "My beautiful sunflowers on a sunny Friday morning off :) sunflowers favourites happy Friday off… \n",
            "\n",
            "\u001b[92mMy beautiful sunflowers on a sunny Friday morning off :) sunflowers favourites happy Friday off… \n",
            "\u001b[94m\n",
            "\n",
            "Tokenized string:\n",
            "['my', 'beautiful', 'sunflowers', 'on', 'a', 'sunny', 'friday', 'morning', 'off', ':)', 'sunflowers', 'favourites', 'happy', 'friday', 'off', '…']\n",
            "Stop words\n",
            "\n",
            "['i', 'me', 'my', 'myself', 'we', 'our', 'ours', 'ourselves', 'you', \"you're\", \"you've\", \"you'll\", \"you'd\", 'your', 'yours', 'yourself', 'yourselves', 'he', 'him', 'his', 'himself', 'she', \"she's\", 'her', 'hers', 'herself', 'it', \"it's\", 'its', 'itself', 'they', 'them', 'their', 'theirs', 'themselves', 'what', 'which', 'who', 'whom', 'this', 'that', \"that'll\", 'these', 'those', 'am', 'is', 'are', 'was', 'were', 'be', 'been', 'being', 'have', 'has', 'had', 'having', 'do', 'does', 'did', 'doing', 'a', 'an', 'the', 'and', 'but', 'if', 'or', 'because', 'as', 'until', 'while', 'of', 'at', 'by', 'for', 'with', 'about', 'against', 'between', 'into', 'through', 'during', 'before', 'after', 'above', 'below', 'to', 'from', 'up', 'down', 'in', 'out', 'on', 'off', 'over', 'under', 'again', 'further', 'then', 'once', 'here', 'there', 'when', 'where', 'why', 'how', 'all', 'any', 'both', 'each', 'few', 'more', 'most', 'other', 'some', 'such', 'no', 'nor', 'not', 'only', 'own', 'same', 'so', 'than', 'too', 'very', 's', 't', 'can', 'will', 'just', 'don', \"don't\", 'should', \"should've\", 'now', 'd', 'll', 'm', 'o', 're', 've', 'y', 'ain', 'aren', \"aren't\", 'couldn', \"couldn't\", 'didn', \"didn't\", 'doesn', \"doesn't\", 'hadn', \"hadn't\", 'hasn', \"hasn't\", 'haven', \"haven't\", 'isn', \"isn't\", 'ma', 'mightn', \"mightn't\", 'mustn', \"mustn't\", 'needn', \"needn't\", 'shan', \"shan't\", 'shouldn', \"shouldn't\", 'wasn', \"wasn't\", 'weren', \"weren't\", 'won', \"won't\", 'wouldn', \"wouldn't\"]\n",
            "\n",
            "Punctuation\n",
            "\n",
            "!\"#$%&'()*+,-./:;<=>?@[\\]^_`{|}~\n",
            "\n",
            "\u001b[92m\n",
            "['my', 'beautiful', 'sunflowers', 'on', 'a', 'sunny', 'friday', 'morning', 'off', ':)', 'sunflowers', 'favourites', 'happy', 'friday', 'off', '…']\n",
            "\u001b[94m\n",
            "removed stop words and punctuation:\n",
            "['beautiful', 'sunflowers', 'sunny', 'friday', 'morning', ':)', 'sunflowers', 'favourites', 'happy', 'friday', '…']\n",
            "\n",
            "\u001b[92m\n",
            "['beautiful', 'sunflowers', 'sunny', 'friday', 'morning', ':)', 'sunflowers', 'favourites', 'happy', 'friday', '…']\n",
            "\u001b[94m\n",
            "stemmed words:\n",
            "['beauti', 'sunflow', 'sunni', 'friday', 'morn', ':)', 'sunflow', 'favourit', 'happi', 'friday', '…']\n"
          ]
        }
      ]
    }
  ]
}